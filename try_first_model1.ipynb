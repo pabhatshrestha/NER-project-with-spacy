{
 "cells": [
  {
   "cell_type": "code",
   "execution_count": null,
   "metadata": {
    "ExecuteTime": {
     "end_time": "2020-11-17T20:35:10.170267Z",
     "start_time": "2020-11-17T20:35:04.589399Z"
    },
    "id": "Jvi9MbDXK4G5",
    "outputId": "b8bdef4c-2f71-4958-f1b8-f4e1a74f90c0"
   },
   "outputs": [
    {
     "name": "stdout",
     "output_type": "stream",
     "text": [
      "Current date and time :  2020-11-19 12:19:45\n",
      "Model loaded from :  C:\\Users\\Probs\\Desktop\\Complete_model\n",
      "Enter you text here : Samsung 14inch laptop, i7 processor, 8gb ram, 256gb ssd, 990.8€ 04 elektroniikka Gigantti \n",
      "Samsung 14inch laptop, i7 processor, 8gb ram, 256gb ssd, 990.8€ 04 elektroniikka Gigantti \n",
      "brand Samsung\n",
      "Samsung 14inch laptop, i7 processor, 8gb ram, 256gb ssd, 990.8€ 04 elektroniikka Gigantti \n",
      "product 14inch\n",
      "Samsung 14inch laptop, i7 processor, 8gb ram, 256gb ssd, 990.8€ 04 elektroniikka Gigantti \n",
      "product laptop\n",
      "Samsung 14inch laptop, i7 processor, 8gb ram, 256gb ssd, 990.8€ 04 elektroniikka Gigantti \n",
      "size 256\n",
      "Samsung 14inch laptop, i7 processor, 8gb ram, 256gb ssd, 990.8€ 04 elektroniikka Gigantti \n",
      "price 990.8\n",
      "Samsung 14inch laptop, i7 processor, 8gb ram, 256gb ssd, 990.8€ 04 elektroniikka Gigantti \n",
      "provider_category 04 elektroniikka\n",
      "Samsung 14inch laptop, i7 processor, 8gb ram, 256gb ssd, 990.8€ 04 elektroniikka Gigantti \n",
      "provider Gigantti\n"
     ]
    },
    {
     "data": {
      "text/html": [
       "<span class=\"tex2jax_ignore\"><div class=\"entities\" style=\"line-height: 2.5; direction: ltr\">\n",
       "<mark class=\"entity\" style=\"background: #ddd; padding: 0.45em 0.6em; margin: 0 0.25em; line-height: 1; border-radius: 0.35em;\">\n",
       "    Samsung\n",
       "    <span style=\"font-size: 0.8em; font-weight: bold; line-height: 1; border-radius: 0.35em; text-transform: uppercase; vertical-align: middle; margin-left: 0.5rem\">brand</span>\n",
       "</mark>\n",
       " \n",
       "<mark class=\"entity\" style=\"background: #bfeeb7; padding: 0.45em 0.6em; margin: 0 0.25em; line-height: 1; border-radius: 0.35em;\">\n",
       "    14inch\n",
       "    <span style=\"font-size: 0.8em; font-weight: bold; line-height: 1; border-radius: 0.35em; text-transform: uppercase; vertical-align: middle; margin-left: 0.5rem\">product</span>\n",
       "</mark>\n",
       " \n",
       "<mark class=\"entity\" style=\"background: #bfeeb7; padding: 0.45em 0.6em; margin: 0 0.25em; line-height: 1; border-radius: 0.35em;\">\n",
       "    laptop\n",
       "    <span style=\"font-size: 0.8em; font-weight: bold; line-height: 1; border-radius: 0.35em; text-transform: uppercase; vertical-align: middle; margin-left: 0.5rem\">product</span>\n",
       "</mark>\n",
       ", i7 processor, 8gb ram, \n",
       "<mark class=\"entity\" style=\"background: #ddd; padding: 0.45em 0.6em; margin: 0 0.25em; line-height: 1; border-radius: 0.35em;\">\n",
       "    256\n",
       "    <span style=\"font-size: 0.8em; font-weight: bold; line-height: 1; border-radius: 0.35em; text-transform: uppercase; vertical-align: middle; margin-left: 0.5rem\">size</span>\n",
       "</mark>\n",
       "gb ssd, \n",
       "<mark class=\"entity\" style=\"background: #ddd; padding: 0.45em 0.6em; margin: 0 0.25em; line-height: 1; border-radius: 0.35em;\">\n",
       "    990.8\n",
       "    <span style=\"font-size: 0.8em; font-weight: bold; line-height: 1; border-radius: 0.35em; text-transform: uppercase; vertical-align: middle; margin-left: 0.5rem\">price</span>\n",
       "</mark>\n",
       "€ \n",
       "<mark class=\"entity\" style=\"background: #ddd; padding: 0.45em 0.6em; margin: 0 0.25em; line-height: 1; border-radius: 0.35em;\">\n",
       "    04 elektroniikka\n",
       "    <span style=\"font-size: 0.8em; font-weight: bold; line-height: 1; border-radius: 0.35em; text-transform: uppercase; vertical-align: middle; margin-left: 0.5rem\">provider_category</span>\n",
       "</mark>\n",
       " \n",
       "<mark class=\"entity\" style=\"background: #ddd; padding: 0.45em 0.6em; margin: 0 0.25em; line-height: 1; border-radius: 0.35em;\">\n",
       "    Gigantti\n",
       "    <span style=\"font-size: 0.8em; font-weight: bold; line-height: 1; border-radius: 0.35em; text-transform: uppercase; vertical-align: middle; margin-left: 0.5rem\">provider</span>\n",
       "</mark>\n",
       " </div></span>"
      ],
      "text/plain": [
       "<IPython.core.display.HTML object>"
      ]
     },
     "metadata": {},
     "output_type": "display_data"
    }
   ],
   "source": [
    "import spacy\n",
    "import os\n",
    "import pandas as pd\n",
    "import csv\n",
    "from spacy import displacy\n",
    "\n",
    "import datetime\n",
    "now = datetime.datetime.now()\n",
    "print (\"Current date and time : \", now.strftime(\"%Y-%m-%d %H:%M:%S\"))\n",
    "\n",
    "# load mode\n",
    "nlp = spacy.load(os.getcwd())\n",
    "print('Model loaded from : ', os.getcwd())\n",
    "text= []\n",
    "while text not in ['done', 'DONE', 'Done', 'close', 'Close', 'CLOSE', 'EXIT', 'Exit', 'exit']:\n",
    "    text= input('Enter you text here : ')\n",
    "    doc = nlp(text)\n",
    "    print(text)\n",
    "    for ent in doc.ents:\n",
    "        print(ent.label_, ent.text)\n",
    "    displacy.render(nlp(doc.text), style='ent', jupyter=True)"
   ]
  },
  {
   "cell_type": "code",
   "execution_count": null,
   "metadata": {},
   "outputs": [],
   "source": [
    "import spacy\n",
    "import os\n",
    "import pandas as pd\n",
    "import csv\n",
    "from spacy import displacy\n",
    "import nltk\n",
    "from nltk.stem import wordnet\n",
    "from nltk.stem import WordNetLemmatizer \n",
    "\n",
    "import datetime\n",
    "now = datetime.datetime.now()\n",
    "print (\"Current date and time : \", now.strftime(\"%Y-%m-%d %H:%M:%S\"))\n",
    "\n",
    "# load mode\n",
    "nlp = spacy.load(r'C:\\Users\\probs\\Desktop\\New folder')\n",
    "print('Model loaded from : ', os.getcwd())\n",
    "text= []\n",
    "while text not in ['done', 'DONE', 'Done', 'close', 'Close', 'CLOSE', 'EXIT', 'Exit', 'exit']:\n",
    "    text= input('Enter you text here : ')\n",
    "    text= text.lower()\n",
    "    lemmatizer = nltk.stem.WordNetLemmatizer()\n",
    "    text= lemmatizer.lemmatize(text)\n",
    "    print(text)\n",
    "    doc = nlp(text)\n",
    "    for ent in doc.ents:\n",
    "        print(ent.label_, ent.text)\n",
    "    displacy.render(nlp(doc.text), style='ent', jupyter=True)"
   ]
  }
 ],
 "metadata": {
  "colab": {
   "name": "Copy of try_first_model.ipynb",
   "provenance": [
    {
     "file_id": "1VduJ4WQFf3E9veBN0sZdA4riOwqq7y9M",
     "timestamp": 1605733468331
    }
   ]
  },
  "kernelspec": {
   "display_name": "Python 3",
   "language": "python",
   "name": "python3"
  },
  "language_info": {
   "codemirror_mode": {
    "name": "ipython",
    "version": 3
   },
   "file_extension": ".py",
   "mimetype": "text/x-python",
   "name": "python",
   "nbconvert_exporter": "python",
   "pygments_lexer": "ipython3",
   "version": "3.7.7"
  },
  "nbTranslate": {
   "displayLangs": [
    "*"
   ],
   "hotkey": "alt-t",
   "langInMainMenu": true,
   "sourceLang": "en",
   "targetLang": "fr",
   "useGoogleTranslate": true
  },
  "toc": {
   "base_numbering": 1,
   "nav_menu": {},
   "number_sections": true,
   "sideBar": true,
   "skip_h1_title": false,
   "title_cell": "Table of Contents",
   "title_sidebar": "Contents",
   "toc_cell": false,
   "toc_position": {},
   "toc_section_display": true,
   "toc_window_display": false
  }
 },
 "nbformat": 4,
 "nbformat_minor": 1
}
